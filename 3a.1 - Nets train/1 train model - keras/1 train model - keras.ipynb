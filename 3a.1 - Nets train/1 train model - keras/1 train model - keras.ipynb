{
 "cells": [
  {
   "cell_type": "code",
   "execution_count": null,
   "metadata": {
    "collapsed": true
   },
   "outputs": [],
   "source": [
    "# Keras classifier with single logistic node for binary classification"
   ]
  },
  {
   "cell_type": "code",
   "execution_count": 5,
   "metadata": {
    "collapsed": false
   },
   "outputs": [],
   "source": [
    "from __future__ import print_function\n",
    "import numpy as np\n",
    "import pandas as pd\n",
    "import pickle\n",
    "import time\n",
    "\n",
    "from keras.datasets import reuters\n",
    "from keras.models import Sequential\n",
    "from keras.layers import Dense, Dropout, Activation\n",
    "from keras.layers import LSTM\n",
    "from keras.utils import np_utils\n",
    "from keras.preprocessing.text import Tokenizer, one_hot, text_to_word_sequence\n",
    "from keras.preprocessing import sequence\n",
    "from keras.layers.embeddings import Embedding\n",
    "from keras.models import load_model\n",
    "\n",
    "#from keras.utils.visualize_util import plot  # deprecated\n",
    "from keras.utils.vis_utils import plot_model\n",
    "from IPython.display import SVG\n",
    "from keras.utils.vis_utils import model_to_dot\n",
    "\n",
    "\n",
    "from sklearn.model_selection import train_test_split\n",
    "from sklearn.preprocessing import LabelEncoder"
   ]
  },
  {
   "cell_type": "code",
   "execution_count": 6,
   "metadata": {
    "collapsed": false
   },
   "outputs": [],
   "source": [
    "# Functions\n",
    "\n",
    "def get_word2index(texts_ls_):\n",
    "    word2index_ = {}\n",
    "\n",
    "    c = 1\n",
    "    for text_str in texts_ls_:\n",
    "        text_tokens_ls = text_str.lower().split()\n",
    "        for token in text_tokens_ls:\n",
    "            if(token not in word2index_):\n",
    "                word2index_[token] = c\n",
    "                c = c + 1\n",
    "                \n",
    "    return word2index_\n",
    "\n",
    "def train_df_preprocess(top_words_, texts_ls_, max_pad_length_):\n",
    "    # texts_ls_: list of texts strings\n",
    "    \n",
    "    tok = Tokenizer(top_words_)\n",
    "    tok.fit_on_texts(texts_ls_)\n",
    "\n",
    "    words = []\n",
    "    for iter in range(top_words):\n",
    "        words += [key for key,value in tok.word_index.items() if value==iter+1]\n",
    "\n",
    "    #Class for vectorizing texts, or/and turning texts into sequences \n",
    "    #(=list of word indexes, where the word of rank i in the dataset (starting at 1) has index i).\n",
    "    texts_vec_ls = tok.texts_to_sequences(texts_ls_)#turns text to sequence, stating which word comes in what place\n",
    "    texts_vec_mtx = sequence.pad_sequences(texts_vec_ls, maxlen=max_pad_length_)#pad sequence, essentially padding it with 0's at the end\n",
    "    \n",
    "    return texts_vec_mtx\n",
    "\n",
    "def text_2_vec(text_str, word2index_):\n",
    "    # text_str: text string\n",
    "    \n",
    "    text_tokens_ls = text_str.lower().split()\n",
    "    \n",
    "    text_vec = []\n",
    "    for token in text_tokens_ls:\n",
    "        if token in word2index_:\n",
    "            text_vec.append(word2index_[token])\n",
    "        else:\n",
    "            text_vec.append(0)\n",
    "            \n",
    "    return text_vec\n",
    "\n",
    "def train_df_preprocess_2(texts_ls_, word2index_, max_pad_length_):\n",
    "    # texts_ls_: list of texts strings\n",
    "    \n",
    "    texts_vec_ls = []\n",
    "    for text_ in texts_ls_:\n",
    "        #print(text_)\n",
    "        #print(type(text_))\n",
    "        text_vec = text_2_vec(text_, word2index_)\n",
    "        texts_vec_ls.append(text_vec)\n",
    "    \n",
    "    texts_vec_ary = sequence.pad_sequences(texts_vec_ls, maxlen=max_pad_length_)\n",
    "    \n",
    "    return texts_vec_ary\n",
    "\n",
    "def texts_to_sequences_custom(texts_ls, word_index_):\n",
    "    texts_seq = []\n",
    "    \n",
    "    for text in texts_ls:\n",
    "        text_split = text.lower().split()\n",
    "        seq = []\n",
    "        for token in text_split:\n",
    "            if(token in word_index_):\n",
    "                seq.append(word_index_[token])\n",
    "            else:\n",
    "                seq.append(0)\n",
    "                \n",
    "        texts_seq.append(seq)\n",
    "#         for k,v in word_index_.items():\n",
    "#             if(v == 395):\n",
    "#                 print(k,v)\n",
    "    return texts_seq\n",
    "\n",
    "\n",
    "def get_model_file_aux(model_file_aux_name):\n",
    "    with open(model_file_aux_name, 'rb') as pickle_file:\n",
    "        model_file_aux = pickle.load(pickle_file)\n",
    "    return model_file_aux"
   ]
  },
  {
   "cell_type": "code",
   "execution_count": 7,
   "metadata": {
    "collapsed": false
   },
   "outputs": [
    {
     "name": "stdout",
     "output_type": "stream",
     "text": [
      "train data shape: (6822, 4)\n"
     ]
    },
    {
     "data": {
      "text/html": [
       "<div>\n",
       "<table border=\"1\" class=\"dataframe\">\n",
       "  <thead>\n",
       "    <tr style=\"text-align: right;\">\n",
       "      <th></th>\n",
       "      <th>description_mod1</th>\n",
       "      <th>category_id_mod1</th>\n",
       "      <th>category_full_path_mod1</th>\n",
       "      <th>target</th>\n",
       "    </tr>\n",
       "  </thead>\n",
       "  <tbody>\n",
       "    <tr>\n",
       "      <th>0</th>\n",
       "      <td>RION TECH 5 point 6 point 3 Piece Tool Kit Pen...</td>\n",
       "      <td>927</td>\n",
       "      <td>Tools &amp; Home Improvement &gt; Power &amp; Hand Tools ...</td>\n",
       "      <td>Positive</td>\n",
       "    </tr>\n",
       "    <tr>\n",
       "      <th>1</th>\n",
       "      <td>Stalwart 25-piece 4.8V Cordless Screwdriver Set</td>\n",
       "      <td>927</td>\n",
       "      <td>Tools &amp; Home Improvement &gt; Power &amp; Hand Tools ...</td>\n",
       "      <td>False</td>\n",
       "    </tr>\n",
       "  </tbody>\n",
       "</table>\n",
       "</div>"
      ],
      "text/plain": [
       "                                    description_mod1  category_id_mod1  \\\n",
       "0  RION TECH 5 point 6 point 3 Piece Tool Kit Pen...               927   \n",
       "1    Stalwart 25-piece 4.8V Cordless Screwdriver Set               927   \n",
       "\n",
       "                             category_full_path_mod1    target  \n",
       "0  Tools & Home Improvement > Power & Hand Tools ...  Positive  \n",
       "1  Tools & Home Improvement > Power & Hand Tools ...     False  "
      ]
     },
     "execution_count": 7,
     "metadata": {},
     "output_type": "execute_result"
    }
   ],
   "source": [
    "# Read train set (screwdrivers)\n",
    "pkl_file = '/Users/altay.amanbay/Desktop/new node booster/experiments/3a.1 - Nets train/train_data.pkl'\n",
    "train_df = pd.read_pickle(pkl_file)\n",
    "\n",
    "# Create target feature\n",
    "train_df['target'] = train_df['type'].apply(lambda x: 'False' if x == 'False Positive' else 'Positive')\n",
    "\n",
    "# Drop index column\n",
    "train_df.drop(labels=['type'], axis=1, inplace=True)\n",
    "\n",
    "# Encode target feature\n",
    "#le = LabelEncoder()\n",
    "#le.fit(train_df['target'])\n",
    "#train_df['target_le'] = le.transform(train_df['target'])\n",
    "\n",
    "\n",
    "# cat = 'Tools & Home Improvement > Power & Hand Tools > Hand Tools > Screwdrivers'\n",
    "# positives, negatives = get_positives_negatives(train_df, cat)\n",
    "# X_train = input_text = pd.concat([positives, negatives])\n",
    "# y_train = [1] * len(positives) + [0] * len(negatives)\n",
    "\n",
    "print('train data shape:',train_df.shape)\n",
    "train_df.head(2)"
   ]
  },
  {
   "cell_type": "code",
   "execution_count": 11,
   "metadata": {
    "collapsed": false
   },
   "outputs": [
    {
     "name": "stdout",
     "output_type": "stream",
     "text": [
      "samples data shape: (951776, 4)\n"
     ]
    },
    {
     "data": {
      "text/html": [
       "<div>\n",
       "<table border=\"1\" class=\"dataframe\">\n",
       "  <thead>\n",
       "    <tr style=\"text-align: right;\">\n",
       "      <th></th>\n",
       "      <th>description_mod1</th>\n",
       "      <th>category_id_mod1</th>\n",
       "      <th>category_full_path_mod1</th>\n",
       "      <th>target</th>\n",
       "    </tr>\n",
       "  </thead>\n",
       "  <tbody>\n",
       "    <tr>\n",
       "      <th>0</th>\n",
       "      <td>!iT Jeans Maternity Skinny Jeans Dark Wash M</td>\n",
       "      <td>100</td>\n",
       "      <td>Apparel &amp; Accessories &gt; Apparel &gt; Maternity</td>\n",
       "      <td>False</td>\n",
       "    </tr>\n",
       "    <tr>\n",
       "      <th>1</th>\n",
       "      <td>1822 Denim 'Butter' Maternity Skinny Jeans Rin...</td>\n",
       "      <td>100</td>\n",
       "      <td>Apparel &amp; Accessories &gt; Apparel &gt; Maternity</td>\n",
       "      <td>False</td>\n",
       "    </tr>\n",
       "    <tr>\n",
       "      <th>2</th>\n",
       "      <td>25 J Brand Maternity Skinny Jean nirvana blue</td>\n",
       "      <td>100</td>\n",
       "      <td>Apparel &amp; Accessories &gt; Apparel &gt; Maternity</td>\n",
       "      <td>False</td>\n",
       "    </tr>\n",
       "    <tr>\n",
       "      <th>3</th>\n",
       "      <td>26 J Brand Maternity Skinny Jean nirvana blue</td>\n",
       "      <td>100</td>\n",
       "      <td>Apparel &amp; Accessories &gt; Apparel &gt; Maternity</td>\n",
       "      <td>False</td>\n",
       "    </tr>\n",
       "    <tr>\n",
       "      <th>4</th>\n",
       "      <td>26 James Jeans Maternity Skinny External Mater...</td>\n",
       "      <td>100</td>\n",
       "      <td>Apparel &amp; Accessories &gt; Apparel &gt; Maternity</td>\n",
       "      <td>False</td>\n",
       "    </tr>\n",
       "  </tbody>\n",
       "</table>\n",
       "</div>"
      ],
      "text/plain": [
       "                                    description_mod1  category_id_mod1  \\\n",
       "0       !iT Jeans Maternity Skinny Jeans Dark Wash M               100   \n",
       "1  1822 Denim 'Butter' Maternity Skinny Jeans Rin...               100   \n",
       "2      25 J Brand Maternity Skinny Jean nirvana blue               100   \n",
       "3      26 J Brand Maternity Skinny Jean nirvana blue               100   \n",
       "4  26 James Jeans Maternity Skinny External Mater...               100   \n",
       "\n",
       "                       category_full_path_mod1 target  \n",
       "0  Apparel & Accessories > Apparel > Maternity  False  \n",
       "1  Apparel & Accessories > Apparel > Maternity  False  \n",
       "2  Apparel & Accessories > Apparel > Maternity  False  \n",
       "3  Apparel & Accessories > Apparel > Maternity  False  \n",
       "4  Apparel & Accessories > Apparel > Maternity  False  "
      ]
     },
     "execution_count": 11,
     "metadata": {},
     "output_type": "execute_result"
    }
   ],
   "source": [
    "# Read sampled descriptionary\n",
    "\n",
    "path = '/Users/altay.amanbay/Desktop/new node booster/experiments/train data from descriptionary nodes by sampling/3 - Picking samples from each node/sampled descriptionary/'\n",
    "file_name = 'sampled_descriptionary_sample_size_5000.csv'\n",
    "samples_df = pd.read_csv(path + file_name)\n",
    "\n",
    "# Rename columns\n",
    "samples_df.rename(columns={'description': 'description_mod1', \n",
    "                           'category_id': 'category_id_mod1',\n",
    "                           'category_path': 'category_full_path_mod1'}, inplace=True)\n",
    "\n",
    "# Drop 'screwdrivers' from descriptionary\n",
    "samples_df = samples_df.loc[samples_df.category_id_mod1 != 927,:]\n",
    "\n",
    "# Drop index column\n",
    "samples_df.drop(labels=['index'], axis=1, inplace=True)\n",
    "\n",
    "# Add target column and make all false as all items are not screwdrivers\n",
    "samples_df['target'] = 'False'\n",
    "\n",
    "print('samples data shape:',samples_df.shape)\n",
    "samples_df.head()"
   ]
  },
  {
   "cell_type": "code",
   "execution_count": 12,
   "metadata": {
    "collapsed": false
   },
   "outputs": [
    {
     "name": "stdout",
     "output_type": "stream",
     "text": [
      "train data shape: (958598, 5)\n"
     ]
    },
    {
     "data": {
      "text/html": [
       "<div>\n",
       "<table border=\"1\" class=\"dataframe\">\n",
       "  <thead>\n",
       "    <tr style=\"text-align: right;\">\n",
       "      <th></th>\n",
       "      <th>description_mod1</th>\n",
       "      <th>category_id_mod1</th>\n",
       "      <th>category_full_path_mod1</th>\n",
       "      <th>target</th>\n",
       "      <th>target_le</th>\n",
       "    </tr>\n",
       "  </thead>\n",
       "  <tbody>\n",
       "    <tr>\n",
       "      <th>0</th>\n",
       "      <td>RION TECH 5 point 6 point 3 Piece Tool Kit Pen...</td>\n",
       "      <td>927</td>\n",
       "      <td>Tools &amp; Home Improvement &gt; Power &amp; Hand Tools ...</td>\n",
       "      <td>Positive</td>\n",
       "      <td>1</td>\n",
       "    </tr>\n",
       "    <tr>\n",
       "      <th>1</th>\n",
       "      <td>Stalwart 25-piece 4.8V Cordless Screwdriver Set</td>\n",
       "      <td>927</td>\n",
       "      <td>Tools &amp; Home Improvement &gt; Power &amp; Hand Tools ...</td>\n",
       "      <td>False</td>\n",
       "      <td>0</td>\n",
       "    </tr>\n",
       "  </tbody>\n",
       "</table>\n",
       "</div>"
      ],
      "text/plain": [
       "                                    description_mod1  category_id_mod1  \\\n",
       "0  RION TECH 5 point 6 point 3 Piece Tool Kit Pen...               927   \n",
       "1    Stalwart 25-piece 4.8V Cordless Screwdriver Set               927   \n",
       "\n",
       "                             category_full_path_mod1    target  target_le  \n",
       "0  Tools & Home Improvement > Power & Hand Tools ...  Positive          1  \n",
       "1  Tools & Home Improvement > Power & Hand Tools ...     False          0  "
      ]
     },
     "execution_count": 12,
     "metadata": {},
     "output_type": "execute_result"
    }
   ],
   "source": [
    "# Concat original train set and sampled descriptionary\n",
    "train_df = pd.concat([train_df, samples_df], axis=0)\n",
    "train_df.reset_index(drop=True, inplace=True)\n",
    "\n",
    "# Encode target feature\n",
    "le = LabelEncoder()\n",
    "le.fit(train_df['target'])\n",
    "train_df['target_le'] = le.transform(train_df['target'])\n",
    "\n",
    "\n",
    "print('train data shape:',train_df.shape)\n",
    "train_df.head(2)"
   ]
  },
  {
   "cell_type": "code",
   "execution_count": 13,
   "metadata": {
    "collapsed": false
   },
   "outputs": [
    {
     "name": "stdout",
     "output_type": "stream",
     "text": [
      "<class 'numpy.ndarray'>\n",
      "<class 'numpy.ndarray'>\n",
      "671018\n",
      "287580\n",
      "(671018,)\n",
      "(287580,)\n"
     ]
    }
   ],
   "source": [
    "# Split into train and test\n",
    "#X = train_df.loc[:,['description_mod1']]\n",
    "X_ls = np.array(list(train_df['description_mod1']))\n",
    "y_ary = np.array(list(train_df['target_le']))\n",
    "# X_ls = train_df[['description_mod1']]\n",
    "# y_ary = train_df[['target_le']]\n",
    "\n",
    "print(type(X_ls))\n",
    "print(type(y_ary))\n",
    "\n",
    "X_train_ls, X_test_ls, y_train_ary, y_test_ary = train_test_split(X_ls, y_ary, test_size = 0.3)\n",
    "\n",
    "# print(X_train_df.shape)\n",
    "# print(X_test_df.shape)\n",
    "print(len(X_train_ls))\n",
    "print(len(X_test_ls))\n",
    "print(y_train_ary.shape)\n",
    "print(y_test_ary.shape)"
   ]
  },
  {
   "cell_type": "code",
   "execution_count": 8,
   "metadata": {
    "collapsed": false
   },
   "outputs": [
    {
     "name": "stdout",
     "output_type": "stream",
     "text": [
      "word_index size: 160138\n",
      "train_texts_vec_mtx shape: (671018, 30)\n"
     ]
    },
    {
     "data": {
      "text/plain": [
       "['alod', 'winders™', '32802985', 'measurer', 'grapenuts']"
      ]
     },
     "execution_count": 8,
     "metadata": {},
     "output_type": "execute_result"
    }
   ],
   "source": [
    "# Convert train set into sequences for nets\n",
    "\n",
    "top_words = 200000\n",
    "max_description_length = 30\n",
    "\n",
    "tok = Tokenizer(nb_words = top_words)\n",
    "tok.fit_on_texts(X_train_ls)\n",
    "word_index = tok.word_index\n",
    "print('word_index size:',len(word_index))\n",
    "\n",
    "#train_texts_vec_ls = tok.texts_to_sequences(X_train_ls)\n",
    "train_texts_vec_ls = texts_to_sequences_custom(X_train_ls, word_index)\n",
    "train_texts_vec_mtx = sequence.pad_sequences(train_texts_vec_ls, maxlen = max_description_length)\n",
    "\n",
    "print('train_texts_vec_mtx shape:',train_texts_vec_mtx.shape)\n",
    "list(tok.word_index)[0:5]"
   ]
  },
  {
   "cell_type": "code",
   "execution_count": 9,
   "metadata": {
    "collapsed": true
   },
   "outputs": [],
   "source": [
    "# Convert test set into sequences for nets\n",
    "\n",
    "#test_texts_vec_ls = tok.texts_to_sequences(X_test_ls)\n",
    "test_texts_vec_ls = texts_to_sequences_custom(X_test_ls, word_index)\n",
    "test_texts_vec_mtx = sequence.pad_sequences(test_texts_vec_ls, maxlen = max_description_length)"
   ]
  },
  {
   "cell_type": "code",
   "execution_count": 11,
   "metadata": {
    "collapsed": false
   },
   "outputs": [
    {
     "name": "stdout",
     "output_type": "stream",
     "text": [
      "word index size: 77404\n",
      "embedding matrix shape: (77405, 32)\n",
      "[ 0.  0.  0.  0.  0.  0.  0.  0.  0.  0.  0.  0.  0.  0.  0.  0.  0.  0.\n",
      "  0.  0.  0.  0.  0.  0.  0.  0.  0.  0.  0.  0.  0.  0.]\n",
      "[ 0.27770816  0.81671177  0.21301468  0.94154113  0.39377092  0.891082\n",
      "  0.29541817  0.35896707  0.66954954  0.50907603  0.11077037  0.81984594\n",
      "  0.63772684  0.42282534  0.51834815  0.37013495  0.15623341  0.24809457\n",
      "  0.54476132  0.31239479  0.25101598  0.12233844  0.42003582  0.40615799\n",
      "  0.12832855  0.32709863  0.61099598  0.37799214  0.53473519  0.8166088\n",
      "  0.14262626  0.89797792]\n"
     ]
    }
   ],
   "source": [
    "# Create RANDOM embedding vectors for each word in word index (lower cell code preferable)\n",
    "# fix random seed for reproducibility\n",
    "np.random.seed(7)\n",
    "\n",
    "embedding_vecor_length = 32 #32\n",
    "uniq_token_count = len(tok.word_index)\n",
    "print('word index size:', uniq_token_count)\n",
    "\n",
    "embedding_matrix = np.zeros((len(word_index) + 1, embedding_vecor_length))\n",
    "for word, i in word_index.items():\n",
    "    embedding_vector = np.random.uniform(.1, size=(1, embedding_vecor_length))\n",
    "    if embedding_vector is not None:\n",
    "        # words not found in embedding index will be all-zeros.\n",
    "        embedding_matrix[i] = embedding_vector\n",
    "\n",
    "print('embedding matrix shape:',embedding_matrix.shape)\n",
    "print(embedding_matrix[0])\n",
    "print(embedding_matrix[1])"
   ]
  },
  {
   "cell_type": "code",
   "execution_count": 11,
   "metadata": {
    "collapsed": false
   },
   "outputs": [
    {
     "name": "stdout",
     "output_type": "stream",
     "text": [
      "Loaded 27369 word vectors.\n",
      "embedding_vecor_length: 64\n",
      "\n",
      "embedding matrix shape: (160139, 64)\n",
      "[ 0.  0.  0.  0.  0.  0.  0.  0.  0.  0.  0.  0.  0.  0.  0.  0.  0.  0.\n",
      "  0.  0.  0.  0.  0.  0.  0.  0.  0.  0.  0.  0.  0.  0.  0.  0.  0.  0.\n",
      "  0.  0.  0.  0.  0.  0.  0.  0.  0.  0.  0.  0.  0.  0.  0.  0.  0.  0.\n",
      "  0.  0.  0.  0.  0.  0.  0.  0.  0.  0.]\n",
      "[-0.11874384 -0.18338123 -0.1189863   0.0296769  -0.10040731  0.19030495\n",
      "  0.04485871 -0.25051293  0.17562355  0.20848943 -0.12377688 -0.20985943\n",
      "  0.13807371 -0.13637935  0.02424677  0.06837706  0.06524271 -0.00508871\n",
      " -0.02461083 -0.08833824 -0.16471682 -0.03245933 -0.11193646  0.08134902\n",
      "  0.23003449  0.15979894  0.161314   -0.01001965 -0.25643814 -0.02541378\n",
      " -0.02158204 -0.16852614 -0.0245541   0.0272678  -0.08373841  0.00394543\n",
      "  0.13927533 -0.19923402 -0.00737857  0.11337322 -0.12939563  0.27020159\n",
      " -0.07885345 -0.12451541 -0.02593904 -0.09407372  0.04657621 -0.12356172\n",
      "  0.06735924  0.07370111  0.1704063  -0.19690731 -0.13407005 -0.04181341\n",
      "  0.00812345  0.07623474  0.07886458 -0.03991519  0.08217812  0.02648425\n",
      "  0.16118786  0.07509588 -0.13065369  0.05955683]\n"
     ]
    }
   ],
   "source": [
    "## Create word embeddings from trained Word2Vec model\n",
    "from gensim.models import word2vec, Phrases\n",
    "\n",
    "# Load model\n",
    "file_path = '/Users/altay.amanbay/Desktop/word2vec/word2vect_vec64_win3__dict_sample_5000'\n",
    "model = word2vec.Word2Vec.load(file_path)\n",
    "\n",
    "#print(model.vocab.keys())\n",
    "#sys.exit()\n",
    "\n",
    "# word vector embeddings from model into dictionary\n",
    "word2vec_dict={}\n",
    "for word in model.vocab.keys():\n",
    "    try:\n",
    "        word2vec_dict[word]=model[word]\n",
    "    except:    \n",
    "        pass\n",
    "print('Loaded %s word vectors.' % len(word2vec_dict))\n",
    "    \n",
    "embedding_vecor_length = len(model[word])\n",
    "print('embedding_vecor_length:',embedding_vecor_length)\n",
    "\n",
    "\n",
    "embedding_matrix = np.zeros((len(word_index) + 1, embedding_vecor_length))\n",
    "for word, i in word_index.items():\n",
    "    embedding_vector = word2vec_dict.get(word)\n",
    "    if embedding_vector is not None:\n",
    "        # words not found in embedding index will be all-zeros.\n",
    "        embedding_matrix[i] = embedding_vector\n",
    "        \n",
    "print('\\nembedding matrix shape:',embedding_matrix.shape)\n",
    "print(embedding_matrix[0]) # first cell should be all zeros\n",
    "print(embedding_matrix[1])"
   ]
  },
  {
   "cell_type": "code",
   "execution_count": 12,
   "metadata": {
    "collapsed": true
   },
   "outputs": [],
   "source": [
    "# Best model result holder\n",
    "best_model_aux = {}\n",
    "best_model_aux['Max length'] = max_description_length\n",
    "best_model_aux['Best Score'] = 0\n",
    "best_model_aux['Category ID'] = 927\n",
    "best_model_aux['Category name'] = 'Tools & Home Improvement > Power & Hand Tools > Hand Tools > Screwdrivers'\n",
    "best_model_aux['Tokenizer'] = tok\n",
    "\n",
    "best_model = None"
   ]
  },
  {
   "cell_type": "code",
   "execution_count": 43,
   "metadata": {
    "collapsed": false
   },
   "outputs": [],
   "source": [
    "# Optional\n",
    "# Load previous model (if needs to be compared in the following training)\n",
    "#best_model = load_model('category_927_nets_1000_model.h5')\n",
    "#best_model_aux = get_model_file_aux('category_927_nets_1000_model_aux.pkl')"
   ]
  },
  {
   "cell_type": "code",
   "execution_count": 13,
   "metadata": {
    "collapsed": false
   },
   "outputs": [
    {
     "data": {
      "text/plain": [
       "0"
      ]
     },
     "execution_count": 13,
     "metadata": {},
     "output_type": "execute_result"
    }
   ],
   "source": [
    "best_model_aux['Best Score']"
   ]
  },
  {
   "cell_type": "code",
   "execution_count": 14,
   "metadata": {
    "collapsed": false
   },
   "outputs": [
    {
     "name": "stdout",
     "output_type": "stream",
     "text": [
      "____________________________________________________________________________________________________\n",
      "Layer (type)                     Output Shape          Param #     Connected to                     \n",
      "====================================================================================================\n",
      "embedding_1 (Embedding)          (None, 30, 64)        10248896    embedding_input_1[0][0]          \n",
      "____________________________________________________________________________________________________\n",
      "lstm_1 (LSTM)                    (None, 100)           66000       embedding_1[0][0]                \n",
      "____________________________________________________________________________________________________\n",
      "dense_1 (Dense)                  (None, 1)             101         lstm_1[0][0]                     \n",
      "====================================================================================================\n",
      "Total params: 10,314,997\n",
      "Trainable params: 66,101\n",
      "Non-trainable params: 10,248,896\n",
      "____________________________________________________________________________________________________\n",
      "None\n",
      "Train on 671018 samples, validate on 287580 samples\n",
      "Epoch 1/1\n",
      "671018/671018 [==============================] - 833s - loss: 0.0085 - acc: 0.9978 - val_loss: 0.0041 - val_acc: 0.9989\n",
      "Captured improved model\n",
      "\n",
      "Train on 671018 samples, validate on 287580 samples\n",
      "Epoch 1/1\n",
      "671018/671018 [==============================] - 818s - loss: 0.0039 - acc: 0.9989 - val_loss: 0.0032 - val_acc: 0.9991\n",
      "Captured improved model\n",
      "\n",
      "Train on 671018 samples, validate on 287580 samples\n",
      "Epoch 1/1\n",
      "671018/671018 [==============================] - 861s - loss: 0.0034 - acc: 0.9990 - val_loss: 0.0032 - val_acc: 0.9992\n",
      "Captured improved model\n",
      "\n",
      "Train on 671018 samples, validate on 287580 samples\n",
      "Epoch 1/1\n",
      "671018/671018 [==============================] - 848s - loss: 0.0029 - acc: 0.9991 - val_loss: 0.0027 - val_acc: 0.9992\n",
      "Captured improved model\n",
      "\n",
      "Train on 671018 samples, validate on 287580 samples\n",
      "Epoch 1/1\n",
      "671018/671018 [==============================] - 848s - loss: 0.0026 - acc: 0.9992 - val_loss: 0.0026 - val_acc: 0.9992\n",
      "Captured improved model\n",
      "\n",
      "Train on 671018 samples, validate on 287580 samples\n",
      "Epoch 1/1\n",
      "671018/671018 [==============================] - 869s - loss: 0.0022 - acc: 0.9993 - val_loss: 0.0027 - val_acc: 0.9991\n",
      "\n",
      "Train on 671018 samples, validate on 287580 samples\n",
      "Epoch 1/1\n",
      "671018/671018 [==============================] - 813s - loss: 0.0019 - acc: 0.9994 - val_loss: 0.0025 - val_acc: 0.9993\n",
      "Captured improved model\n",
      "\n",
      "Train on 671018 samples, validate on 287580 samples\n",
      "Epoch 1/1\n",
      "671018/671018 [==============================] - 817s - loss: 0.0017 - acc: 0.9994 - val_loss: 0.0026 - val_acc: 0.9993\n",
      "Captured improved model\n",
      "\n",
      "Train on 671018 samples, validate on 287580 samples\n",
      "Epoch 1/1\n",
      "671018/671018 [==============================] - 810s - loss: 0.0014 - acc: 0.9995 - val_loss: 0.0027 - val_acc: 0.9993\n",
      "\n",
      "Train on 671018 samples, validate on 287580 samples\n",
      "Epoch 1/1\n",
      "671018/671018 [==============================] - 874s - loss: 0.0012 - acc: 0.9996 - val_loss: 0.0038 - val_acc: 0.9992\n",
      "\n",
      "Training took 9428.54 s\n"
     ]
    }
   ],
   "source": [
    "# TRAIN MODEL\n",
    "start = time.time()\n",
    "\n",
    "# define/initialize model\n",
    "top_words = len(word_index) + 1\n",
    "batch_size_ = 64   # 64\n",
    "\n",
    "model = Sequential()\n",
    "#model.add(Embedding(top_words, embedding_vecor_length, input_length = max_description_length))\n",
    "embedding_layer = Embedding(top_words, \n",
    "                            embedding_vecor_length, \n",
    "                            weights=[embedding_matrix], \n",
    "                            input_length = max_description_length,\n",
    "                            trainable=False)\n",
    "model.add(embedding_layer)\n",
    "model.add(LSTM(100))\n",
    "model.add(Dense(1, activation='sigmoid'))\n",
    "#model.layers[0].trainable = False\n",
    "model.compile(loss='binary_crossentropy', optimizer='adam', metrics=['accuracy'])\n",
    "print(model.summary())\n",
    "\n",
    "# start training multiple times with epoch=1\n",
    "for ep in range(1,11):\n",
    "    #model.fit(X_train_ary, y_train_ary, validation_data=(X_train_ary, y_train_ary), nb_epoch=5, batch_size=64)\n",
    "    model.fit(train_texts_vec_mtx, y_train_ary, validation_data=(test_texts_vec_mtx, y_test_ary), nb_epoch=1, batch_size=batch_size_)\n",
    "    \n",
    "    scores = model.evaluate(test_texts_vec_mtx, y_test_ary, verbose=0)\n",
    "    if(best_model_aux['Best Score'] < scores[1]):\n",
    "        best_model_aux['Best Score'] = scores[1]\n",
    "        best_model = model\n",
    "        print('Captured improved model')\n",
    "        #print(\"Accuracy on test set: %.2f%%\" % (scores[1]*100))\n",
    "    print()\n",
    " \n",
    "\n",
    "print(\"Training took %g s\" % (time.time() - start))"
   ]
  },
  {
   "cell_type": "code",
   "execution_count": 15,
   "metadata": {
    "collapsed": false
   },
   "outputs": [
    {
     "data": {
      "text/plain": [
       "0.99931149593156687"
      ]
     },
     "execution_count": 15,
     "metadata": {},
     "output_type": "execute_result"
    }
   ],
   "source": [
    "best_model_aux['Best Score']"
   ]
  },
  {
   "cell_type": "code",
   "execution_count": 29,
   "metadata": {
    "collapsed": false
   },
   "outputs": [
    {
     "data": {
      "image/svg+xml": [
       "<svg height=\"264pt\" viewBox=\"0.00 0.00 205.57 264.00\" width=\"206pt\" xmlns=\"http://www.w3.org/2000/svg\" xmlns:xlink=\"http://www.w3.org/1999/xlink\">\n",
       "<g class=\"graph\" id=\"graph0\" transform=\"scale(1 1) rotate(0) translate(4 260)\">\n",
       "<title>G</title>\n",
       "<polygon fill=\"#ffffff\" points=\"-4,4 -4,-260 201.5693,-260 201.5693,4 -4,4\" stroke=\"transparent\"/>\n",
       "<!-- 9697807888 -->\n",
       "<g class=\"node\" id=\"node1\">\n",
       "<title>9697807888</title>\n",
       "<polygon fill=\"none\" points=\"0,-219.5 0,-255.5 197.5693,-255.5 197.5693,-219.5 0,-219.5\" stroke=\"#000000\"/>\n",
       "<text fill=\"#000000\" font-family=\"Times,serif\" font-size=\"14.00\" text-anchor=\"middle\" x=\"98.7847\" y=\"-233.3\">embedding_input_1: InputLayer</text>\n",
       "</g>\n",
       "<!-- 4404772936 -->\n",
       "<g class=\"node\" id=\"node2\">\n",
       "<title>4404772936</title>\n",
       "<polygon fill=\"none\" points=\"16.7139,-146.5 16.7139,-182.5 180.8555,-182.5 180.8555,-146.5 16.7139,-146.5\" stroke=\"#000000\"/>\n",
       "<text fill=\"#000000\" font-family=\"Times,serif\" font-size=\"14.00\" text-anchor=\"middle\" x=\"98.7847\" y=\"-160.3\">embedding_1: Embedding</text>\n",
       "</g>\n",
       "<!-- 9697807888&#45;&gt;4404772936 -->\n",
       "<g class=\"edge\" id=\"edge1\">\n",
       "<title>9697807888-&gt;4404772936</title>\n",
       "<path d=\"M98.7847,-219.4551C98.7847,-211.3828 98.7847,-201.6764 98.7847,-192.6817\" fill=\"none\" stroke=\"#000000\"/>\n",
       "<polygon fill=\"#000000\" points=\"102.2848,-192.5903 98.7847,-182.5904 95.2848,-192.5904 102.2848,-192.5903\" stroke=\"#000000\"/>\n",
       "</g>\n",
       "<!-- 5129251304 -->\n",
       "<g class=\"node\" id=\"node3\">\n",
       "<title>5129251304</title>\n",
       "<polygon fill=\"none\" points=\"49.3623,-73.5 49.3623,-109.5 148.207,-109.5 148.207,-73.5 49.3623,-73.5\" stroke=\"#000000\"/>\n",
       "<text fill=\"#000000\" font-family=\"Times,serif\" font-size=\"14.00\" text-anchor=\"middle\" x=\"98.7847\" y=\"-87.3\">lstm_1: LSTM</text>\n",
       "</g>\n",
       "<!-- 4404772936&#45;&gt;5129251304 -->\n",
       "<g class=\"edge\" id=\"edge2\">\n",
       "<title>4404772936-&gt;5129251304</title>\n",
       "<path d=\"M98.7847,-146.4551C98.7847,-138.3828 98.7847,-128.6764 98.7847,-119.6817\" fill=\"none\" stroke=\"#000000\"/>\n",
       "<polygon fill=\"#000000\" points=\"102.2848,-119.5903 98.7847,-109.5904 95.2848,-119.5904 102.2848,-119.5903\" stroke=\"#000000\"/>\n",
       "</g>\n",
       "<!-- 9722370984 -->\n",
       "<g class=\"node\" id=\"node4\">\n",
       "<title>9722370984</title>\n",
       "<polygon fill=\"none\" points=\"46.6587,-.5 46.6587,-36.5 150.9106,-36.5 150.9106,-.5 46.6587,-.5\" stroke=\"#000000\"/>\n",
       "<text fill=\"#000000\" font-family=\"Times,serif\" font-size=\"14.00\" text-anchor=\"middle\" x=\"98.7847\" y=\"-14.3\">dense_1: Dense</text>\n",
       "</g>\n",
       "<!-- 5129251304&#45;&gt;9722370984 -->\n",
       "<g class=\"edge\" id=\"edge3\">\n",
       "<title>5129251304-&gt;9722370984</title>\n",
       "<path d=\"M98.7847,-73.4551C98.7847,-65.3828 98.7847,-55.6764 98.7847,-46.6817\" fill=\"none\" stroke=\"#000000\"/>\n",
       "<polygon fill=\"#000000\" points=\"102.2848,-46.5903 98.7847,-36.5904 95.2848,-46.5904 102.2848,-46.5903\" stroke=\"#000000\"/>\n",
       "</g>\n",
       "</g>\n",
       "</svg>"
      ],
      "text/plain": [
       "<IPython.core.display.SVG object>"
      ]
     },
     "execution_count": 29,
     "metadata": {},
     "output_type": "execute_result"
    }
   ],
   "source": [
    "# Plot Nets design\n",
    "#plot(model, to_file='/Users/altay.amanbay/Desktop/model.png')\n",
    "SVG(model_to_dot(model).create(prog='dot', format='svg'))"
   ]
  },
  {
   "cell_type": "code",
   "execution_count": 16,
   "metadata": {
    "collapsed": false
   },
   "outputs": [],
   "source": [
    "# Save model and aux file\n",
    "\n",
    "best_model.save('category_927_nets__traindata5000_vectrain5000_model.h5')\n",
    "\n",
    "best_model_aux_name = 'category_' + str(best_model_aux['Category ID']) + '_nets__traindata5000_vectrain5000_aux.pkl'\n",
    "with open(best_model_aux_name, 'wb') as pickle_file:\n",
    "    pickle.dump(best_model_aux, pickle_file, protocol=pickle.HIGHEST_PROTOCOL)"
   ]
  },
  {
   "cell_type": "code",
   "execution_count": null,
   "metadata": {
    "collapsed": true
   },
   "outputs": [],
   "source": []
  },
  {
   "cell_type": "markdown",
   "metadata": {},
   "source": [
    "### Evaluation (optional)"
   ]
  },
  {
   "cell_type": "code",
   "execution_count": 17,
   "metadata": {
    "collapsed": false
   },
   "outputs": [
    {
     "name": "stdout",
     "output_type": "stream",
     "text": [
      "Accuracy on train set: 99.96%\n",
      "Accuracy on test set: 99.92%\n"
     ]
    }
   ],
   "source": [
    "# Final evaluation of the model\n",
    "start = time.time()\n",
    "\n",
    "scores = model.evaluate(train_texts_vec_mtx, y_train_ary, verbose=0)\n",
    "print(\"Accuracy on train set: %.2f%%\" % (scores[1]*100))\n",
    "scores = model.evaluate(test_texts_vec_mtx, y_test_ary, verbose=0)\n",
    "print(\"Accuracy on test set: %.2f%%\" % (scores[1]*100))\n",
    "\n",
    "print(\"Evaluation took %g s\" % (time.time() - start))"
   ]
  },
  {
   "cell_type": "code",
   "execution_count": 18,
   "metadata": {
    "collapsed": false
   },
   "outputs": [
    {
     "name": "stdout",
     "output_type": "stream",
     "text": [
      "Prediction took 99.7979 s\n"
     ]
    }
   ],
   "source": [
    "start = time.time()\n",
    "\n",
    "predictions = model.predict(test_texts_vec_mtx)\n",
    "predictions_rnd = np.round_(predictions, decimals=0, out=None)\n",
    "\n",
    "print(\"Prediction took %g s\" % (time.time() - start))"
   ]
  },
  {
   "cell_type": "code",
   "execution_count": 19,
   "metadata": {
    "collapsed": false
   },
   "outputs": [
    {
     "data": {
      "text/html": [
       "<div>\n",
       "<table border=\"1\" class=\"dataframe\">\n",
       "  <thead>\n",
       "    <tr style=\"text-align: right;\">\n",
       "      <th>Predicted</th>\n",
       "      <th>0.0</th>\n",
       "      <th>1.0</th>\n",
       "      <th>All</th>\n",
       "    </tr>\n",
       "    <tr>\n",
       "      <th>True</th>\n",
       "      <th></th>\n",
       "      <th></th>\n",
       "      <th></th>\n",
       "    </tr>\n",
       "  </thead>\n",
       "  <tbody>\n",
       "    <tr>\n",
       "      <th>0</th>\n",
       "      <td>285928</td>\n",
       "      <td>47</td>\n",
       "      <td>285975</td>\n",
       "    </tr>\n",
       "    <tr>\n",
       "      <th>1</th>\n",
       "      <td>196</td>\n",
       "      <td>1409</td>\n",
       "      <td>1605</td>\n",
       "    </tr>\n",
       "    <tr>\n",
       "      <th>All</th>\n",
       "      <td>286124</td>\n",
       "      <td>1456</td>\n",
       "      <td>287580</td>\n",
       "    </tr>\n",
       "  </tbody>\n",
       "</table>\n",
       "</div>"
      ],
      "text/plain": [
       "Predicted     0.0   1.0     All\n",
       "True                           \n",
       "0          285928    47  285975\n",
       "1             196  1409    1605\n",
       "All        286124  1456  287580"
      ]
     },
     "execution_count": 19,
     "metadata": {},
     "output_type": "execute_result"
    }
   ],
   "source": [
    "#pd.crosstab(pd.Series(y_train_ary.ravel()), pd.Series(predictions_rnd.ravel()), rownames=['True'], colnames=['Predicted'], margins=True)\n",
    "pd.crosstab(pd.Series(y_test_ary.ravel()), pd.Series(predictions_rnd.ravel()), rownames=['True'], colnames=['Predicted'], margins=True)"
   ]
  },
  {
   "cell_type": "code",
   "execution_count": 58,
   "metadata": {
    "collapsed": false
   },
   "outputs": [
    {
     "data": {
      "text/html": [
       "<div>\n",
       "<table border=\"1\" class=\"dataframe\">\n",
       "  <thead>\n",
       "    <tr style=\"text-align: right;\">\n",
       "      <th>Predicted</th>\n",
       "      <th>0.0</th>\n",
       "      <th>1.0</th>\n",
       "      <th>All</th>\n",
       "    </tr>\n",
       "    <tr>\n",
       "      <th>True</th>\n",
       "      <th></th>\n",
       "      <th></th>\n",
       "      <th></th>\n",
       "    </tr>\n",
       "  </thead>\n",
       "  <tbody>\n",
       "    <tr>\n",
       "      <th>0</th>\n",
       "      <td>78363</td>\n",
       "      <td>103</td>\n",
       "      <td>78466</td>\n",
       "    </tr>\n",
       "    <tr>\n",
       "      <th>1</th>\n",
       "      <td>102</td>\n",
       "      <td>1493</td>\n",
       "      <td>1595</td>\n",
       "    </tr>\n",
       "    <tr>\n",
       "      <th>All</th>\n",
       "      <td>78465</td>\n",
       "      <td>1596</td>\n",
       "      <td>80061</td>\n",
       "    </tr>\n",
       "  </tbody>\n",
       "</table>\n",
       "</div>"
      ],
      "text/plain": [
       "Predicted    0.0   1.0    All\n",
       "True                         \n",
       "0          78363   103  78466\n",
       "1            102  1493   1595\n",
       "All        78465  1596  80061"
      ]
     },
     "execution_count": 58,
     "metadata": {},
     "output_type": "execute_result"
    }
   ],
   "source": [
    "pd.crosstab(pd.Series(y_test_ary.ravel()), pd.Series(predictions_rnd.ravel()), rownames=['True'], colnames=['Predicted'], margins=True)"
   ]
  },
  {
   "cell_type": "code",
   "execution_count": null,
   "metadata": {
    "collapsed": true
   },
   "outputs": [],
   "source": []
  },
  {
   "cell_type": "markdown",
   "metadata": {},
   "source": [
    "### Testing"
   ]
  },
  {
   "cell_type": "code",
   "execution_count": 12,
   "metadata": {
    "collapsed": false
   },
   "outputs": [],
   "source": [
    "#model.get_config()\n",
    "def prediction_to_str(clf_prediction, category_id):\n",
    "    if(clf_prediction > 0.5):\n",
    "        return str(category_id)\n",
    "    else:\n",
    "        return 'not ' + str(category_id)\n",
    "\n",
    "def predict(description_str, tok_, clf_, max_length_, category_id_):\n",
    "    #seq_ = tok_.texts_to_sequences([description_str])\n",
    "    seq_ = texts_to_sequences_custom([description_str.lower()], word_index_)\n",
    "    seq_pad = sequence.pad_sequences(seq_, maxlen = max_length_)\n",
    "    clf_prediction = clf_.predict(seq_pad)\n",
    "    \n",
    "    #print(seq_)\n",
    "    #print(seq_pad)\n",
    "    \n",
    "    # Prediction to string\n",
    "    clf_prediction_str = prediction_to_str(clf_prediction[0][0], category_id_)\n",
    "    \n",
    "    return clf_prediction_str\n",
    "    #return clf_prediction[0][0]\n",
    "\n",
    "def predict_proba(description_str, tok_, clf_, max_length_):\n",
    "    #seq_ = tok_.texts_to_sequences([description_str])\n",
    "    seq_ = texts_to_sequences_custom([description_str], word_index_)\n",
    "    seq_pad = sequence.pad_sequences(seq_, maxlen = max_length_)\n",
    "    clf_prediction_proba = clf_.predict_proba(seq_pad, verbose=0)\n",
    "    \n",
    "    return clf_prediction_proba[0][0]\n",
    "\n",
    "\n",
    "# id_ = 'table Setr'\n",
    "# p = predict(id_, best_model_aux['Tokenizer'], best_model, best_model_aux['Max length'], best_model_aux['Category ID'])\n",
    "# pp = predict_proba(id_, best_model_aux['Tokenizer'], best_model, best_model_aux['Max length'])\n",
    "# print(p)\n",
    "# print(pp)"
   ]
  },
  {
   "cell_type": "code",
   "execution_count": null,
   "metadata": {
    "collapsed": false
   },
   "outputs": [],
   "source": []
  },
  {
   "cell_type": "code",
   "execution_count": 19,
   "metadata": {
    "collapsed": false
   },
   "outputs": [
    {
     "name": "stdout",
     "output_type": "stream",
     "text": [
      "0 ====================================================================================================\n",
      "Old model prediction:\n",
      "item: tekton 2655 flare nut wrench set metric 6piece\n",
      "Seq max len: 30\n",
      "not 927\n",
      "4.17323e-08\n",
      "\n",
      "Fresh model prediction:\n",
      "item: tekton 2655 flare nut wrench set metric 6piece\n",
      "Seq max len: 30\n",
      "not 927\n",
      "4.17323e-08\n",
      "\n",
      "1 ====================================================================================================\n",
      "Old model prediction:\n",
      "item: tekton 2780 10slot screwdriver holder and organizer\n",
      "Seq max len: 30\n",
      "not 927\n",
      "0.121584\n",
      "\n",
      "Fresh model prediction:\n",
      "item: tekton 2780 10slot screwdriver holder and organizer\n",
      "Seq max len: 30\n",
      "not 927\n",
      "0.121584\n",
      "\n",
      "2 ====================================================================================================\n",
      "Old model prediction:\n",
      "item: titan 17237 insulated electrical screwdriver set  7 piece\n",
      "Seq max len: 30\n",
      "927\n",
      "0.998989\n",
      "\n",
      "Fresh model prediction:\n",
      "item: titan 17237 insulated electrical screwdriver set  7 piece\n",
      "Seq max len: 30\n",
      "927\n",
      "0.998989\n",
      "\n",
      "3 ====================================================================================================\n",
      "Old model prediction:\n",
      "item: tool sorter screwdriver organizer red\n",
      "Seq max len: 30\n",
      "not 927\n",
      "0.405264\n",
      "\n",
      "Fresh model prediction:\n",
      "item: tool sorter screwdriver organizer red\n",
      "Seq max len: 30\n",
      "not 927\n",
      "0.405264\n",
      "\n",
      "4 ====================================================================================================\n",
      "Old model prediction:\n",
      "item: torin sdh15rt magnetic screwdriver holder\n",
      "Seq max len: 30\n",
      "927\n",
      "0.994613\n",
      "\n",
      "Fresh model prediction:\n",
      "item: torin sdh15rt magnetic screwdriver holder\n",
      "Seq max len: 30\n",
      "927\n",
      "0.994613\n",
      "\n",
      "5 ====================================================================================================\n",
      "Old model prediction:\n",
      "item: wera 05020013001 joker combination wrenchset 11 pieces\n",
      "Seq max len: 30\n",
      "not 927\n",
      "0.0210169\n",
      "\n",
      "Fresh model prediction:\n",
      "item: wera 05020013001 joker combination wrenchset 11 pieces\n",
      "Seq max len: 30\n",
      "not 927\n",
      "0.0210169\n",
      "\n",
      "6 ====================================================================================================\n",
      "Old model prediction:\n",
      "item: wera kk vde 60i62i68i18 insulated pouch set with interchangeable blades 18piece\n",
      "Seq max len: 30\n",
      "927\n",
      "0.995252\n",
      "\n",
      "Fresh model prediction:\n",
      "item: wera kk vde 60i62i68i18 insulated pouch set with interchangeable blades 18piece\n",
      "Seq max len: 30\n",
      "927\n",
      "0.995252\n",
      "\n",
      "7 ====================================================================================================\n",
      "Old model prediction:\n",
      "item: wiha 28103 magnetic 14 bit holder stubby 57mm pliers screwdriver\n",
      "Seq max len: 30\n",
      "927\n",
      "0.972863\n",
      "\n",
      "Fresh model prediction:\n",
      "item: wiha 28103 magnetic 14 bit holder stubby 57mm pliers screwdriver\n",
      "Seq max len: 30\n",
      "927\n",
      "0.972863\n",
      "\n"
     ]
    }
   ],
   "source": [
    "# TEST\n",
    "\n",
    "## load old model\n",
    "model_file = \"category_927_nets__traindata5000_vectrain5000_model.h5\"\n",
    "aux_file = \"category_927_nets__traindata5000_vectrain5000_aux.pkl\"\n",
    "old_best_model_ = load_model(model_file)\n",
    "old_best_model_aux_ = get_model_file_aux(aux_file)\n",
    "old_tok_ = old_best_model_aux_['Tokenizer']\n",
    "old_word_index_ = old_best_model_aux_['Tokenizer'].word_index\n",
    "\n",
    "## use fresh model\n",
    "# best_model_ = best_model\n",
    "# best_model_aux_ = best_model_aux\n",
    "# tok_ = tok\n",
    "# word_index_ = word_index\n",
    "\n",
    "item_d = 'NieR: Automata™ DEMO 120161128 (Playable Demo)'\n",
    "\n",
    "# screwdrivers check\n",
    "scrw_items = [\n",
    "\"tekton 2655 flare nut wrench set metric 6piece\"\n",
    ",\"tekton 2780 10slot screwdriver holder and organizer\"\n",
    ",\"titan 17237 insulated electrical screwdriver set  7 piece\"\n",
    ",\"tool sorter screwdriver organizer red\"\n",
    ",\"torin sdh15rt magnetic screwdriver holder\"  #wrong predict\n",
    ",\"wera 05020013001 joker combination wrenchset 11 pieces\"\n",
    ",\"wera kk vde 60i62i68i18 insulated pouch set with interchangeable blades 18piece\" # tricky\n",
    ",\"wiha 28103 magnetic 14 bit holder stubby 57mm pliers screwdriver\" # tricky, wrong predict\n",
    "]\n",
    "\n",
    "for n, i in enumerate(scrw_items):\n",
    "    item_d = i\n",
    "    \n",
    "    print(str(n) + ' ' + '='*100)\n",
    "    \n",
    "    print('Old model prediction:')\n",
    "    print('item:',item_d)\n",
    "    print('Seq max len:', old_best_model_aux_['Max length'])\n",
    "    print(predict(item_d, old_tok_, old_best_model_, old_best_model_aux_['Max length'], '927'))\n",
    "    print(predict_proba(item_d, old_tok_, old_best_model_, old_best_model_aux_['Max length']))\n",
    "\n",
    "\n",
    "    print('\\nFresh model prediction:')\n",
    "    print('item:',item_d)\n",
    "    print('Seq max len:', best_model_aux_['Max length'])\n",
    "    print(predict(item_d, tok_, best_model_, best_model_aux_['Max length'], '927'))\n",
    "    print(predict_proba(item_d, tok_, best_model_, best_model_aux_['Max length']))\n",
    "\n",
    "    print()\n",
    "\n",
    "    #tt = train_df.loc[0:10,['description_mod1']]\n",
    "    #tt['pred'] = tt['description_mod1'].apply(lambda x: predict(x, best_model_aux_['Tokenizer'], best_model, best_model_aux_['Max length'], best_model_aux_['Category ID']))\n",
    "    #tt['prob'] = tt['description_mod1'].apply(lambda x: predict_proba(x, best_model_aux_['Tokenizer'], best_model, best_model_aux_['Max length']))"
   ]
  }
 ],
 "metadata": {
  "anaconda-cloud": {},
  "kernelspec": {
   "display_name": "Python 3",
   "language": "python",
   "name": "python3"
  },
  "language_info": {
   "codemirror_mode": {
    "name": "ipython",
    "version": 3
   },
   "file_extension": ".py",
   "mimetype": "text/x-python",
   "name": "python",
   "nbconvert_exporter": "python",
   "pygments_lexer": "ipython3",
   "version": "3.6.0"
  }
 },
 "nbformat": 4,
 "nbformat_minor": 1
}
