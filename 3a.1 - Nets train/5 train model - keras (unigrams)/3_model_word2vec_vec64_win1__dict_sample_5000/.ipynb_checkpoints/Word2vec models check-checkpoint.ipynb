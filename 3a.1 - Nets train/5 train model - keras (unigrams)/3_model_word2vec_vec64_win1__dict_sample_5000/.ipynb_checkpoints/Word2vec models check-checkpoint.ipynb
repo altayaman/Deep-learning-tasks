{
 "cells": [
  {
   "cell_type": "code",
   "execution_count": 1,
   "metadata": {
    "collapsed": true
   },
   "outputs": [],
   "source": [
    "from gensim.models import word2vec, Phrases"
   ]
  },
  {
   "cell_type": "code",
   "execution_count": 7,
   "metadata": {
    "collapsed": true
   },
   "outputs": [],
   "source": [
    "def print_list(ls):\n",
    "    for i in ls:\n",
    "        print(i)\n",
    "    print()"
   ]
  },
  {
   "cell_type": "code",
   "execution_count": 34,
   "metadata": {
    "collapsed": false
   },
   "outputs": [],
   "source": [
    "#Users/altay.amanbay/Desktop/new\\ node\\ booster/experiments/3a.1\\ -\\ Nets\\ train/5\\ train\\ model\\ -\\ keras\\ \\(unigrams\\)/\n",
    "file_path_1 = 'word2vect_unigrams_interrelations__vec64_win1__dict_sample_5000'\n",
    "file_path_2 = 'word2vect_class_specific_unigrams__vec64_win1__dict_sample_5000'\n",
    "model = word2vec.Word2Vec.load(file_path_1)\n",
    "\n",
    "# use word2vec.Word2Vec.load_word2vec_format if model trained in C"
   ]
  },
  {
   "cell_type": "code",
   "execution_count": 46,
   "metadata": {
    "collapsed": false
   },
   "outputs": [
    {
     "name": "stdout",
     "output_type": "stream",
     "text": [
      "====================================================================================================\n",
      "Test for 3 words:\n",
      "   Similar to leg\n",
      "('straight', 0.8669065237045288)\n",
      "('jean', 0.824181079864502)\n",
      "('jeans', 0.7996786832809448)\n",
      "('bootcut', 0.761491596698761)\n",
      "('inseam', 0.7500561475753784)\n",
      "('slim', 0.7486763000488281)\n",
      "('relaxed', 0.7345435619354248)\n",
      "('indigo', 0.7340880632400513)\n",
      "('stretch', 0.7268842458724976)\n",
      "('denim', 0.7207175493240356)\n",
      "\n",
      "   Similar to pliers\n",
      "('plier', 0.9558350443840027)\n",
      "('nose', 0.8788828253746033)\n",
      "('jaw', 0.8366507291793823)\n",
      "('jaws', 0.8267574310302734)\n",
      "('beadsmith', 0.8087111711502075)\n",
      "('visegrip', 0.8034131526947021)\n",
      "('beading', 0.7952365875244141)\n",
      "('crimping', 0.7914056777954102)\n",
      "('cutting', 0.7855960130691528)\n",
      "('groovelock', 0.7709463238716125)\n",
      "\n",
      "   Similar to sweater\n",
      "('cardigan', 0.9275669455528259)\n",
      "('vneck', 0.9104927778244019)\n",
      "('turtleneck', 0.9011613130569458)\n",
      "('marled', 0.8657253384590149)\n",
      "('crewneck', 0.8443456292152405)\n",
      "('dolman', 0.8364583253860474)\n",
      "('shawl', 0.8331419825553894)\n",
      "('merino', 0.8276662826538086)\n",
      "('mockneck', 0.8224307894706726)\n",
      "('pullover', 0.8176050186157227)\n",
      "\n"
     ]
    }
   ],
   "source": [
    "#6 Test Word2Vec model\n",
    "test_words = ['leg','pliers','sweater']\n",
    "print('='*100)\n",
    "print('Test for '+str(len(test_words))+' words:')\n",
    "for word in test_words:\n",
    "    print('   Similar to ' + word)\n",
    "    print_list(model.most_similar(word, topn=10))"
   ]
  }
 ],
 "metadata": {
  "anaconda-cloud": {},
  "kernelspec": {
   "display_name": "Python [conda root]",
   "language": "python",
   "name": "conda-root-py"
  },
  "language_info": {
   "codemirror_mode": {
    "name": "ipython",
    "version": 3
   },
   "file_extension": ".py",
   "mimetype": "text/x-python",
   "name": "python",
   "nbconvert_exporter": "python",
   "pygments_lexer": "ipython3",
   "version": "3.5.2"
  }
 },
 "nbformat": 4,
 "nbformat_minor": 1
}
