{
 "cells": [
  {
   "cell_type": "code",
   "execution_count": 1,
   "metadata": {
    "collapsed": false
   },
   "outputs": [
    {
     "name": "stderr",
     "output_type": "stream",
     "text": [
      "Using TensorFlow backend.\n"
     ]
    }
   ],
   "source": [
    "from __future__ import print_function\n",
    "\n",
    "import keras\n",
    "from keras.datasets import mnist\n",
    "from keras.models import Model\n",
    "from keras.layers import Input, Dense, TimeDistributed\n",
    "from keras.layers import LSTM"
   ]
  },
  {
   "cell_type": "code",
   "execution_count": null,
   "metadata": {
    "collapsed": true
   },
   "outputs": [],
   "source": [
    "# Training parameters.\n",
    "batch_size = 32\n",
    "num_classes = 10\n",
    "epochs = 5\n",
    "\n",
    "# Embedding dimensions.\n",
    "row_hidden = 128\n",
    "col_hidden = 128\n",
    "\n",
    "# The data, shuffled and split between train and test sets.\n",
    "(x_train, y_train), (x_test, y_test) = mnist.load_data()\n",
    "\n",
    "# Reshapes data to 4D for Hierarchical RNN.\n",
    "x_train = x_train.reshape(x_train.shape[0], 28, 28, 1)\n",
    "x_test = x_test.reshape(x_test.shape[0], 28, 28, 1)\n",
    "x_train = x_train.astype('float32')\n",
    "x_test = x_test.astype('float32')\n",
    "x_train /= 255\n",
    "x_test /= 255\n",
    "print('x_train shape:', x_train.shape)\n",
    "print(x_train.shape[0], 'train samples')\n",
    "print(x_test.shape[0], 'test samples')\n",
    "\n",
    "# Converts class vectors to binary class matrices.\n",
    "y_train = keras.utils.np_utils.to_categorical(y_train, num_classes)\n",
    "y_test = keras.utils.np_utils.to_categorical(y_test, num_classes)\n",
    "\n",
    "row, col, pixel = x_train.shape[1:]\n",
    "\n",
    "# 4D input.\n",
    "x = Input(shape=(row, col, pixel))\n",
    "\n",
    "# Encodes a row of pixels using TimeDistributed Wrapper.\n",
    "encoded_rows = TimeDistributed(LSTM(row_hidden))(x)\n",
    "\n",
    "# Encodes columns of encoded rows.\n",
    "encoded_columns = LSTM(col_hidden)(encoded_rows)\n",
    "\n",
    "# Final predictions and model.\n",
    "prediction = Dense(num_classes, activation='softmax')(encoded_columns)\n",
    "model = Model(x, prediction)\n",
    "model.compile(loss='categorical_crossentropy',\n",
    "              optimizer='rmsprop',\n",
    "              metrics=['accuracy'])"
   ]
  },
  {
   "cell_type": "code",
   "execution_count": 6,
   "metadata": {
    "collapsed": false
   },
   "outputs": [
    {
     "data": {
      "image/svg+xml": [
       "<svg height=\"264pt\" viewBox=\"0.00 0.00 316.07 264.00\" width=\"316pt\" xmlns=\"http://www.w3.org/2000/svg\" xmlns:xlink=\"http://www.w3.org/1999/xlink\">\n",
       "<g class=\"graph\" id=\"graph0\" transform=\"scale(1 1) rotate(0) translate(4 260)\">\n",
       "<title>G</title>\n",
       "<polygon fill=\"#ffffff\" points=\"-4,4 -4,-260 312.0654,-260 312.0654,4 -4,4\" stroke=\"transparent\"/>\n",
       "<!-- 4876369992 -->\n",
       "<g class=\"node\" id=\"node1\">\n",
       "<title>4876369992</title>\n",
       "<polygon fill=\"none\" points=\"89.8516,-219.5 89.8516,-255.5 218.2139,-255.5 218.2139,-219.5 89.8516,-219.5\" stroke=\"#000000\"/>\n",
       "<text fill=\"#000000\" font-family=\"Times,serif\" font-size=\"14.00\" text-anchor=\"middle\" x=\"154.0327\" y=\"-233.3\">input_2: InputLayer</text>\n",
       "</g>\n",
       "<!-- 4876371056 -->\n",
       "<g class=\"node\" id=\"node2\">\n",
       "<title>4876371056</title>\n",
       "<polygon fill=\"none\" points=\"0,-146.5 0,-182.5 308.0654,-182.5 308.0654,-146.5 0,-146.5\" stroke=\"#000000\"/>\n",
       "<text fill=\"#000000\" font-family=\"Times,serif\" font-size=\"14.00\" text-anchor=\"middle\" x=\"154.0327\" y=\"-160.3\">timedistributed_2(lstm_3): TimeDistributed(LSTM)</text>\n",
       "</g>\n",
       "<!-- 4876369992&#45;&gt;4876371056 -->\n",
       "<g class=\"edge\" id=\"edge1\">\n",
       "<title>4876369992-&gt;4876371056</title>\n",
       "<path d=\"M154.0327,-219.4551C154.0327,-211.3828 154.0327,-201.6764 154.0327,-192.6817\" fill=\"none\" stroke=\"#000000\"/>\n",
       "<polygon fill=\"#000000\" points=\"157.5328,-192.5903 154.0327,-182.5904 150.5328,-192.5904 157.5328,-192.5903\" stroke=\"#000000\"/>\n",
       "</g>\n",
       "<!-- 4876370944 -->\n",
       "<g class=\"node\" id=\"node3\">\n",
       "<title>4876370944</title>\n",
       "<polygon fill=\"none\" points=\"104.6104,-73.5 104.6104,-109.5 203.4551,-109.5 203.4551,-73.5 104.6104,-73.5\" stroke=\"#000000\"/>\n",
       "<text fill=\"#000000\" font-family=\"Times,serif\" font-size=\"14.00\" text-anchor=\"middle\" x=\"154.0327\" y=\"-87.3\">lstm_4: LSTM</text>\n",
       "</g>\n",
       "<!-- 4876371056&#45;&gt;4876370944 -->\n",
       "<g class=\"edge\" id=\"edge2\">\n",
       "<title>4876371056-&gt;4876370944</title>\n",
       "<path d=\"M154.0327,-146.4551C154.0327,-138.3828 154.0327,-128.6764 154.0327,-119.6817\" fill=\"none\" stroke=\"#000000\"/>\n",
       "<polygon fill=\"#000000\" points=\"157.5328,-119.5903 154.0327,-109.5904 150.5328,-119.5904 157.5328,-119.5903\" stroke=\"#000000\"/>\n",
       "</g>\n",
       "<!-- 4866784952 -->\n",
       "<g class=\"node\" id=\"node4\">\n",
       "<title>4866784952</title>\n",
       "<polygon fill=\"none\" points=\"101.9067,-.5 101.9067,-36.5 206.1587,-36.5 206.1587,-.5 101.9067,-.5\" stroke=\"#000000\"/>\n",
       "<text fill=\"#000000\" font-family=\"Times,serif\" font-size=\"14.00\" text-anchor=\"middle\" x=\"154.0327\" y=\"-14.3\">dense_2: Dense</text>\n",
       "</g>\n",
       "<!-- 4876370944&#45;&gt;4866784952 -->\n",
       "<g class=\"edge\" id=\"edge3\">\n",
       "<title>4876370944-&gt;4866784952</title>\n",
       "<path d=\"M154.0327,-73.4551C154.0327,-65.3828 154.0327,-55.6764 154.0327,-46.6817\" fill=\"none\" stroke=\"#000000\"/>\n",
       "<polygon fill=\"#000000\" points=\"157.5328,-46.5903 154.0327,-36.5904 150.5328,-46.5904 157.5328,-46.5903\" stroke=\"#000000\"/>\n",
       "</g>\n",
       "</g>\n",
       "</svg>"
      ],
      "text/plain": [
       "<IPython.core.display.SVG object>"
      ]
     },
     "execution_count": 6,
     "metadata": {},
     "output_type": "execute_result"
    }
   ],
   "source": [
    "# Plot Nets design\n",
    "#from keras.utils import plot_model\n",
    "import matplotlib.pyplot as plt\n",
    "from keras.utils.visualize_util import model_to_dot\n",
    "from IPython.display import SVG\n",
    "\n",
    "#plot(model, to_file='/Users/altay.amanbay/Desktop/model.png')\n",
    "SVG(model_to_dot(model).create(prog='dot', format='svg'))"
   ]
  },
  {
   "cell_type": "code",
   "execution_count": null,
   "metadata": {
    "collapsed": false
   },
   "outputs": [],
   "source": [
    "# Training.\n",
    "model.fit(x_train, y_train,\n",
    "          batch_size=batch_size,\n",
    "          nb_epoch=epochs,\n",
    "          verbose=1,\n",
    "          validation_data=(x_test, y_test))\n",
    "\n",
    "# Evaluation.\n",
    "scores = model.evaluate(x_test, y_test, verbose=0)\n",
    "print('Test loss:', scores[0])\n",
    "print('Test accuracy:', scores[1])"
   ]
  }
 ],
 "metadata": {
  "anaconda-cloud": {},
  "kernelspec": {
   "display_name": "Python [conda root]",
   "language": "python",
   "name": "conda-root-py"
  },
  "language_info": {
   "codemirror_mode": {
    "name": "ipython",
    "version": 3
   },
   "file_extension": ".py",
   "mimetype": "text/x-python",
   "name": "python",
   "nbconvert_exporter": "python",
   "pygments_lexer": "ipython3",
   "version": "3.5.2"
  }
 },
 "nbformat": 4,
 "nbformat_minor": 1
}
