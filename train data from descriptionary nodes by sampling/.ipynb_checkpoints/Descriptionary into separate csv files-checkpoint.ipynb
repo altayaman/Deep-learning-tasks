{
 "cells": [
  {
   "cell_type": "code",
   "execution_count": 2,
   "metadata": {
    "collapsed": true
   },
   "outputs": [],
   "source": [
    "import numpy as np\n",
    "import pandas as pd\n",
    "import pandasql as ps\n",
    "import time\n",
    "from sqlalchemy import create_engine"
   ]
  },
  {
   "cell_type": "code",
   "execution_count": 6,
   "metadata": {
    "collapsed": true
   },
   "outputs": [],
   "source": [
    "# Create engine to old RedShift cluster\n",
    "host_ = 'slice-dwh-poc.slicetest.com'\n",
    "database_ = 'sliceds'\n",
    "port_ = '5439'\n",
    "username_ = 'altay'\n",
    "password_ = 'P@s$w0rd!'\n",
    "\n",
    "url = ''.join(['postgresql://', username_, \":\", password_, \"@\", host_, ':',port_, '/', database_])\n",
    "engine = create_engine(url)"
   ]
  },
  {
   "cell_type": "code",
   "execution_count": 8,
   "metadata": {
    "collapsed": false
   },
   "outputs": [
    {
     "name": "stdout",
     "output_type": "stream",
     "text": [
      "\n",
      "Reading train data from RedShift table ...\n",
      "Reading data from database took 91.8918 s\n"
     ]
    }
   ],
   "source": [
    "# Fetch data from db\n",
    "start = time.time()\n",
    "\n",
    "qry = \"\"\"\n",
    "select distinct a.category_id, a.description, b.category_path\n",
    "from ddesc.descriptionary a\n",
    "    left join \n",
    "    (select distinct category_id, category_path from infoprod_ops.full_category_brand_rule) b\n",
    "    on a.category_id = b.category_id\n",
    "where a.category_id = %g\n",
    "\"\"\"\n",
    "\n",
    "\n",
    "print(\"\\nReading train data from RedShift table ...\")\n",
    "df = pd.read_sql_query(qry % 194, engine)\n",
    "\n",
    "## Get elapsed time\n",
    "end = time.time()\n",
    "print(\"Reading data from database took %g s\" % (end - start))"
   ]
  },
  {
   "cell_type": "code",
   "execution_count": 9,
   "metadata": {
    "collapsed": false
   },
   "outputs": [
    {
     "data": {
      "text/plain": [
       "(1792, 3)"
      ]
     },
     "execution_count": 9,
     "metadata": {},
     "output_type": "execute_result"
    }
   ],
   "source": [
    "df.shape"
   ]
  }
 ],
 "metadata": {
  "anaconda-cloud": {},
  "kernelspec": {
   "display_name": "Python [conda root]",
   "language": "python",
   "name": "conda-root-py"
  },
  "language_info": {
   "codemirror_mode": {
    "name": "ipython",
    "version": 3
   },
   "file_extension": ".py",
   "mimetype": "text/x-python",
   "name": "python",
   "nbconvert_exporter": "python",
   "pygments_lexer": "ipython3",
   "version": "3.5.2"
  }
 },
 "nbformat": 4,
 "nbformat_minor": 1
}
